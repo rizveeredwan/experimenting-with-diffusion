{
 "cells": [
  {
   "cell_type": "code",
   "execution_count": null,
   "id": "b58a98f3",
   "metadata": {},
   "outputs": [],
   "source": [
    "# custom implementation of diffusion + GNN in unsupervised setup"
   ]
  }
 ],
 "metadata": {
  "kernelspec": {
   "display_name": "stn_car",
   "language": "python",
   "name": "stn_car"
  },
  "language_info": {
   "codemirror_mode": {
    "name": "ipython",
    "version": 3
   },
   "file_extension": ".py",
   "mimetype": "text/x-python",
   "name": "python",
   "nbconvert_exporter": "python",
   "pygments_lexer": "ipython3",
   "version": "3.8.0"
  }
 },
 "nbformat": 4,
 "nbformat_minor": 5
}
